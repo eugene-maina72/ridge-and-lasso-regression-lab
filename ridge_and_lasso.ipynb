{
 "cells": [
  {
   "cell_type": "markdown",
   "metadata": {},
   "source": [
    "# Ridge and Lasso Regression - Lab done by `Eugene Maina`"
   ]
  },
  {
   "cell_type": "markdown",
   "metadata": {},
   "source": [
    "## Introduction"
   ]
  },
  {
   "cell_type": "markdown",
   "metadata": {},
   "source": [
    "In this lab, you'll practice your knowledge of ridge and lasso regression!"
   ]
  },
  {
   "cell_type": "markdown",
   "metadata": {},
   "source": [
    "## Objectives"
   ]
  },
  {
   "cell_type": "markdown",
   "metadata": {},
   "source": [
    "In this lab you will: \n",
    "\n",
    "- Use lasso and ridge regression with scikit-learn \n",
    "- Compare and contrast lasso, ridge and non-regularized regression "
   ]
  },
  {
   "cell_type": "markdown",
   "metadata": {},
   "source": [
    "## Housing Prices Data"
   ]
  },
  {
   "cell_type": "markdown",
   "metadata": {},
   "source": [
    "We'll use this version of the Ames Housing dataset: "
   ]
  },
  {
   "cell_type": "code",
   "execution_count": 1,
   "metadata": {},
   "outputs": [
    {
     "name": "stdout",
     "output_type": "stream",
     "text": [
      "<class 'pandas.core.frame.DataFrame'>\n",
      "Int64Index: 1460 entries, 1 to 1460\n",
      "Data columns (total 80 columns):\n",
      " #   Column         Non-Null Count  Dtype  \n",
      "---  ------         --------------  -----  \n",
      " 0   MSSubClass     1460 non-null   int64  \n",
      " 1   MSZoning       1460 non-null   object \n",
      " 2   LotFrontage    1201 non-null   float64\n",
      " 3   LotArea        1460 non-null   int64  \n",
      " 4   Street         1460 non-null   object \n",
      " 5   Alley          91 non-null     object \n",
      " 6   LotShape       1460 non-null   object \n",
      " 7   LandContour    1460 non-null   object \n",
      " 8   Utilities      1460 non-null   object \n",
      " 9   LotConfig      1460 non-null   object \n",
      " 10  LandSlope      1460 non-null   object \n",
      " 11  Neighborhood   1460 non-null   object \n",
      " 12  Condition1     1460 non-null   object \n",
      " 13  Condition2     1460 non-null   object \n",
      " 14  BldgType       1460 non-null   object \n",
      " 15  HouseStyle     1460 non-null   object \n",
      " 16  OverallQual    1460 non-null   int64  \n",
      " 17  OverallCond    1460 non-null   int64  \n",
      " 18  YearBuilt      1460 non-null   int64  \n",
      " 19  YearRemodAdd   1460 non-null   int64  \n",
      " 20  RoofStyle      1460 non-null   object \n",
      " 21  RoofMatl       1460 non-null   object \n",
      " 22  Exterior1st    1460 non-null   object \n",
      " 23  Exterior2nd    1460 non-null   object \n",
      " 24  MasVnrType     1452 non-null   object \n",
      " 25  MasVnrArea     1452 non-null   float64\n",
      " 26  ExterQual      1460 non-null   object \n",
      " 27  ExterCond      1460 non-null   object \n",
      " 28  Foundation     1460 non-null   object \n",
      " 29  BsmtQual       1423 non-null   object \n",
      " 30  BsmtCond       1423 non-null   object \n",
      " 31  BsmtExposure   1422 non-null   object \n",
      " 32  BsmtFinType1   1423 non-null   object \n",
      " 33  BsmtFinSF1     1460 non-null   int64  \n",
      " 34  BsmtFinType2   1422 non-null   object \n",
      " 35  BsmtFinSF2     1460 non-null   int64  \n",
      " 36  BsmtUnfSF      1460 non-null   int64  \n",
      " 37  TotalBsmtSF    1460 non-null   int64  \n",
      " 38  Heating        1460 non-null   object \n",
      " 39  HeatingQC      1460 non-null   object \n",
      " 40  CentralAir     1460 non-null   object \n",
      " 41  Electrical     1459 non-null   object \n",
      " 42  1stFlrSF       1460 non-null   int64  \n",
      " 43  2ndFlrSF       1460 non-null   int64  \n",
      " 44  LowQualFinSF   1460 non-null   int64  \n",
      " 45  GrLivArea      1460 non-null   int64  \n",
      " 46  BsmtFullBath   1460 non-null   int64  \n",
      " 47  BsmtHalfBath   1460 non-null   int64  \n",
      " 48  FullBath       1460 non-null   int64  \n",
      " 49  HalfBath       1460 non-null   int64  \n",
      " 50  BedroomAbvGr   1460 non-null   int64  \n",
      " 51  KitchenAbvGr   1460 non-null   int64  \n",
      " 52  KitchenQual    1460 non-null   object \n",
      " 53  TotRmsAbvGrd   1460 non-null   int64  \n",
      " 54  Functional     1460 non-null   object \n",
      " 55  Fireplaces     1460 non-null   int64  \n",
      " 56  FireplaceQu    770 non-null    object \n",
      " 57  GarageType     1379 non-null   object \n",
      " 58  GarageYrBlt    1379 non-null   float64\n",
      " 59  GarageFinish   1379 non-null   object \n",
      " 60  GarageCars     1460 non-null   int64  \n",
      " 61  GarageArea     1460 non-null   int64  \n",
      " 62  GarageQual     1379 non-null   object \n",
      " 63  GarageCond     1379 non-null   object \n",
      " 64  PavedDrive     1460 non-null   object \n",
      " 65  WoodDeckSF     1460 non-null   int64  \n",
      " 66  OpenPorchSF    1460 non-null   int64  \n",
      " 67  EnclosedPorch  1460 non-null   int64  \n",
      " 68  3SsnPorch      1460 non-null   int64  \n",
      " 69  ScreenPorch    1460 non-null   int64  \n",
      " 70  PoolArea       1460 non-null   int64  \n",
      " 71  PoolQC         7 non-null      object \n",
      " 72  Fence          281 non-null    object \n",
      " 73  MiscFeature    54 non-null     object \n",
      " 74  MiscVal        1460 non-null   int64  \n",
      " 75  MoSold         1460 non-null   int64  \n",
      " 76  YrSold         1460 non-null   int64  \n",
      " 77  SaleType       1460 non-null   object \n",
      " 78  SaleCondition  1460 non-null   object \n",
      " 79  SalePrice      1460 non-null   int64  \n",
      "dtypes: float64(3), int64(34), object(43)\n",
      "memory usage: 923.9+ KB\n"
     ]
    }
   ],
   "source": [
    "# Run this cell without changes\n",
    "import pandas as pd\n",
    "import warnings\n",
    "warnings.filterwarnings('ignore')\n",
    "df = pd.read_csv('housing_prices.csv', index_col=0)\n",
    "df.info()"
   ]
  },
  {
   "cell_type": "markdown",
   "metadata": {},
   "source": [
    "More information about the features is available in the `data_description.txt` file in this repository."
   ]
  },
  {
   "cell_type": "markdown",
   "metadata": {},
   "source": [
    "## Data Preparation\n",
    "\n",
    "The code below:\n",
    "\n",
    "* Separates the data into `X` (predictor) and `y` (target) variables\n",
    "* Splits the data into 75-25 training-test sets, with a `random_state` of 10\n",
    "* Separates each of the `X` values into continuous vs. categorical features\n",
    "* Fills in missing values (using different strategies for continuous vs. categorical features)\n",
    "* Scales continuous features to a range of 0 to 1\n",
    "* Dummy encodes categorical features\n",
    "* Combines the preprocessed continuous and categorical features back together"
   ]
  },
  {
   "cell_type": "code",
   "execution_count": 3,
   "metadata": {},
   "outputs": [],
   "source": [
    "# Run this cell without changes\n",
    "import numpy as np\n",
    "from sklearn.impute import SimpleImputer\n",
    "from sklearn.model_selection import train_test_split\n",
    "from sklearn.preprocessing import MinMaxScaler, OneHotEncoder\n",
    "\n",
    "# Create X and y\n",
    "y = df['SalePrice']\n",
    "X = df.drop(columns=['SalePrice'])\n",
    "\n",
    "# Split data into training and test sets\n",
    "X_train, X_test, y_train, y_test = train_test_split(X, y, random_state=10)\n",
    "\n",
    "# Separate X data into continuous vs. categorical\n",
    "X_train_cont = X_train.select_dtypes(include='number')\n",
    "X_test_cont = X_test.select_dtypes(include='number')\n",
    "X_train_cat = X_train.select_dtypes(exclude='number')\n",
    "X_test_cat = X_test.select_dtypes(exclude='number')\n",
    "\n",
    "# Impute missing values using SimpleImputer, median for continuous and\n",
    "# filling in 'missing' for categorical\n",
    "impute_cont = SimpleImputer(strategy='median')\n",
    "X_train_cont = impute_cont.fit_transform(X_train_cont)\n",
    "X_test_cont = impute_cont.transform(X_test_cont)\n",
    "impute_cat = SimpleImputer(strategy='constant', fill_value='missing')\n",
    "X_train_cat = impute_cat.fit_transform(X_train_cat)\n",
    "X_test_cat = impute_cat.transform(X_test_cat)\n",
    "\n",
    "# Scale continuous values using MinMaxScaler\n",
    "scaler = MinMaxScaler()\n",
    "X_train_cont = scaler.fit_transform(X_train_cont)\n",
    "X_test_cont = scaler.transform(X_test_cont)\n",
    "\n",
    "# Dummy encode categorical values using OneHotEncoder\n",
    "ohe = OneHotEncoder(handle_unknown='ignore')\n",
    "X_train_cat = ohe.fit_transform(X_train_cat)\n",
    "X_test_cat = ohe.transform(X_test_cat)\n",
    "\n",
    "# Combine everything back together\n",
    "X_train_preprocessed = np.asarray(np.concatenate([X_train_cont, X_train_cat.todense()], axis=1))\n",
    "X_test_preprocessed = np.asarray(np.concatenate([X_test_cont, X_test_cat.todense()], axis=1))"
   ]
  },
  {
   "cell_type": "markdown",
   "metadata": {},
   "source": [
    "## Linear Regression Model\n",
    "\n",
    "Let's use this data to build a first naive linear regression model. Fit the model on the training data (`X_train_preprocessed`), then compute the R-Squared and the MSE for both the training and test sets."
   ]
  },
  {
   "cell_type": "code",
   "execution_count": 7,
   "metadata": {},
   "outputs": [
    {
     "name": "stdout",
     "output_type": "stream",
     "text": [
      "The train R2 is : 0.9358941975341387\n",
      "The test R2 is : -1.8139280124958055e+20\n",
      "\n",
      "\n",
      "The train MSE of the Baseline model is : 402649799.0559361\n",
      "The test MSE of the Baseline model is : 1.1573196494784996e+30\n"
     ]
    }
   ],
   "source": [
    "# Replace None with appropriate code\n",
    "from sklearn.metrics import mean_squared_error\n",
    "from sklearn.linear_model import LinearRegression\n",
    "\n",
    "# Fit the model\n",
    "linreg = LinearRegression()\n",
    "\n",
    "baseline_model = linreg.fit(X_train_preprocessed, y_train)\n",
    "\n",
    "y_train_hats = linreg.predict(X_train_preprocessed)\n",
    "\n",
    "y_test_hats = linreg.predict(X_test_preprocessed)\n",
    "\n",
    "# Print R2 and MSE for training and test sets\n",
    "print(f'The train R2 is : {baseline_model.score(X_train_preprocessed, y_train)}')\n",
    "print(f'The test R2 is : {baseline_model.score(X_test_preprocessed, y_test)}')\n",
    "print('\\n')\n",
    "print(f'The train MSE of the Baseline model is : {mean_squared_error(y_train, y_train_hats)}')\n",
    "print(f'The test MSE of the Baseline model is : {mean_squared_error(y_test, y_test_hats)}')"
   ]
  },
  {
   "cell_type": "markdown",
   "metadata": {},
   "source": [
    "Notice the severe overfitting above; our training R-Squared is very high, but the test R-Squared is negative! Similarly, the scale of the test MSE is orders of magnitude higher than that of the training MSE."
   ]
  },
  {
   "cell_type": "markdown",
   "metadata": {},
   "source": [
    "## Ridge and Lasso Regression"
   ]
  },
  {
   "cell_type": "markdown",
   "metadata": {},
   "source": [
    "Use all the data (scaled features and dummy categorical variables, `X_train_preprocessed`) to build some models with regularization - two each for lasso and ridge regression. Each time, look at R-Squared and MSE.\n",
    "\n",
    "Remember that you can use the scikit-learn documentation if you don't remember how to import or use these classes:\n",
    "\n",
    "* [`Lasso` documentation](https://scikit-learn.org/stable/modules/generated/sklearn.linear_model.Lasso.html)\n",
    "* [`Ridge` documentation](https://scikit-learn.org/stable/modules/generated/sklearn.linear_model.Ridge.html)"
   ]
  },
  {
   "cell_type": "markdown",
   "metadata": {},
   "source": [
    "### Lasso"
   ]
  },
  {
   "cell_type": "markdown",
   "metadata": {},
   "source": [
    "#### With default hyperparameters (`alpha` = 1)"
   ]
  },
  {
   "cell_type": "code",
   "execution_count": 8,
   "metadata": {},
   "outputs": [
    {
     "name": "stdout",
     "output_type": "stream",
     "text": [
      "The train R2 is : 0.9358329893282811\n",
      "The test R2 is : 0.889461954697466\n",
      "\n",
      "\n",
      "The train MSE of the Baseline model is : 403034248.9940253\n",
      "The test MSE of the Baseline model is : 705253190.6574924\n"
     ]
    }
   ],
   "source": [
    "# Your code here\n",
    "#Importing the necessary packages\n",
    "from sklearn.linear_model import Lasso, Ridge\n",
    "\n",
    "#Initialising the class\n",
    "lasso = Lasso(alpha=1)\n",
    "\n",
    "#Fitting the X_train_preprocessed\n",
    "lasso.fit(X_train_preprocessed, y_train)\n",
    "\n",
    "#Predicting train and test values\n",
    "y_lasso_train =lasso.predict(X_train_preprocessed)\n",
    "y_lasso_test =lasso.predict(X_test_preprocessed)\n",
    "\n",
    "# Finding r-squared and mse\n",
    "\n",
    "print(f'The train R2 is : {lasso.score(X_train_preprocessed, y_train)}')\n",
    "print(f'The test R2 is : {lasso.score(X_test_preprocessed, y_test)}')\n",
    "print('\\n')\n",
    "print(f'The train MSE of the Baseline model is : {mean_squared_error(y_train, y_lasso_train)}')\n",
    "print(f'The test MSE of the Baseline model is : {mean_squared_error(y_test, y_lasso_test)}')"
   ]
  },
  {
   "cell_type": "markdown",
   "metadata": {},
   "source": [
    "#### With a higher regularization hyperparameter (`alpha` = 10)"
   ]
  },
  {
   "cell_type": "code",
   "execution_count": 9,
   "metadata": {},
   "outputs": [
    {
     "name": "stdout",
     "output_type": "stream",
     "text": [
      "The train R2 is : 0.9340791643883491\n",
      "The test R2 is : 0.8980800909835147\n",
      "\n",
      "\n",
      "The train MSE of the Baseline model is : 414050057.74267834\n",
      "The test MSE of the Baseline model is : 650267885.8547701\n"
     ]
    }
   ],
   "source": [
    "# Your code here\n",
    "# Using a lambda of 10\n",
    "#Initialising the class\n",
    "lasso_2 = Lasso(alpha=10)\n",
    "\n",
    "#Fitting the X_train_preprocessed\n",
    "lasso_2.fit(X_train_preprocessed, y_train)\n",
    "\n",
    "#Predicting train and test values\n",
    "y_lasso_train_2 =lasso_2.predict(X_train_preprocessed)\n",
    "y_lasso_test_2 =lasso_2.predict(X_test_preprocessed)\n",
    "\n",
    "# Finding r-squared and mse\n",
    "\n",
    "print(f'The train R2 is : {lasso_2.score(X_train_preprocessed, y_train)}')\n",
    "print(f'The test R2 is : {lasso_2.score(X_test_preprocessed, y_test)}')\n",
    "print('\\n')\n",
    "print(f'The train MSE of the Baseline model is : {mean_squared_error(y_train, y_lasso_train_2)}')\n",
    "print(f'The test MSE of the Baseline model is : {mean_squared_error(y_test, y_lasso_test_2)}')"
   ]
  },
  {
   "cell_type": "markdown",
   "metadata": {},
   "source": [
    "## Ridge"
   ]
  },
  {
   "cell_type": "markdown",
   "metadata": {},
   "source": [
    "#### With default hyperparameters (`alpha` = 1)"
   ]
  },
  {
   "cell_type": "code",
   "execution_count": 10,
   "metadata": {},
   "outputs": [
    {
     "name": "stdout",
     "output_type": "stream",
     "text": [
      "The train R2 is : 0.9208039980834579\n",
      "The test R2 is : 0.8863596364585585\n",
      "\n",
      "\n",
      "The train MSE of the Baseline model is : 497431636.9366227\n",
      "The test MSE of the Baseline model is : 725046555.2898805\n"
     ]
    }
   ],
   "source": [
    "# Your code here\n",
    "\n",
    "#Initialising the class\n",
    "ridge = Ridge(alpha=1)\n",
    "\n",
    "#Fitting the X_train_preprocessed\n",
    "ridge.fit(X_train_preprocessed, y_train)\n",
    "\n",
    "#Predicting train and test values\n",
    "y_ridge_train =ridge.predict(X_train_preprocessed)\n",
    "y_ridge_test =ridge.predict(X_test_preprocessed)\n",
    "\n",
    "# Finding r-squared and mse\n",
    "\n",
    "print(f'The train R2 is : {ridge.score(X_train_preprocessed, y_train)}')\n",
    "print(f'The test R2 is : {ridge.score(X_test_preprocessed, y_test)}')\n",
    "print('\\n')\n",
    "print(f'The train MSE of the Baseline model is : {mean_squared_error(y_train, y_ridge_train)}')\n",
    "print(f'The test MSE of the Baseline model is : {mean_squared_error(y_test, y_ridge_test)}')"
   ]
  },
  {
   "cell_type": "markdown",
   "metadata": {},
   "source": [
    "#### With higher regularization hyperparameter (`alpha` = 10)"
   ]
  },
  {
   "cell_type": "code",
   "execution_count": 11,
   "metadata": {},
   "outputs": [
    {
     "name": "stdout",
     "output_type": "stream",
     "text": [
      "The train R2 is : 0.8889512334535103\n",
      "The test R2 is : 0.8794931799899863\n",
      "\n",
      "\n",
      "The train MSE of the Baseline model is : 697499474.5470244\n",
      "The test MSE of the Baseline model is : 768855818.6047645\n"
     ]
    }
   ],
   "source": [
    "# Your code here\n",
    "# Working with a lambda=10\n",
    "#Initialising the class\n",
    "ridge_2 = Ridge(alpha=10)\n",
    "\n",
    "#Fitting the X_train_preprocessed\n",
    "ridge_2.fit(X_train_preprocessed, y_train)\n",
    "\n",
    "#Predicting train and test values\n",
    "y_ridge_train_2 =ridge_2.predict(X_train_preprocessed)\n",
    "y_ridge_test_2 =ridge_2.predict(X_test_preprocessed)\n",
    "\n",
    "# Finding r-squared and mse\n",
    "\n",
    "print(f'The train R2 is : {ridge_2.score(X_train_preprocessed, y_train)}')\n",
    "print(f'The test R2 is : {ridge_2.score(X_test_preprocessed, y_test)}')\n",
    "print('\\n')\n",
    "print(f'The train MSE of the Baseline model is : {mean_squared_error(y_train, y_ridge_train_2)}')\n",
    "print(f'The test MSE of the Baseline model is : {mean_squared_error(y_test, y_ridge_test_2)}')"
   ]
  },
  {
   "cell_type": "markdown",
   "metadata": {},
   "source": [
    "## Comparing the Metrics    \n",
    "\n",
    "Which model seems best, based on the metrics?"
   ]
  },
  {
   "cell_type": "code",
   "execution_count": 16,
   "metadata": {},
   "outputs": [
    {
     "name": "stdout",
     "output_type": "stream",
     "text": [
      "The model that seems to perform the best is the lasso model witha lamba of 10.\n",
      "The r-squares are high for both the train and the test data sets and do not seem to be overfitting.\n",
      "The MSE for the test and the train datasets also seem to be very low as compared to the other models.\n",
      "Overall there is a strong indication of a good variance and bias trade off\n"
     ]
    }
   ],
   "source": [
    "# Write your conclusions here:\n",
    "print(f'The model that seems to perform the best is the lasso model witha lamba of 10.\\nThe r-squares are high for both the train and the test data sets and do not seem to be overfitting.\\nThe MSE for the test and the train datasets also seem to be very low as compared to the other models.\\nOverall there is a strong indication of a good variance and bias trade off')"
   ]
  },
  {
   "cell_type": "markdown",
   "metadata": {},
   "source": [
    "<details>\n",
    "    <summary style=\"cursor: pointer\"><b>Answer (click to reveal)</b></summary>\n",
    "\n",
    "In terms of both R-Squared and MSE, the `Lasso` model with `alpha`=10 has the best metric results.\n",
    "\n",
    "(Remember that better R-Squared is higher, whereas better MSE is lower.)\n",
    "\n",
    "</details>"
   ]
  },
  {
   "cell_type": "markdown",
   "metadata": {},
   "source": [
    "## Comparing the Parameters\n",
    "\n",
    "Compare the number of parameter estimates that are (very close to) 0 for the `Ridge` and `Lasso` models with `alpha`=10.\n",
    "\n",
    "Use 10**(-10) as an estimate that is very close to 0. "
   ]
  },
  {
   "cell_type": "code",
   "execution_count": 17,
   "metadata": {},
   "outputs": [
    {
     "name": "stdout",
     "output_type": "stream",
     "text": [
      "Ridge Parameter Coefficients: 156 close to zero coefficient(s) and 139 not close to zero coefficient(s)\n"
     ]
    }
   ],
   "source": [
    "# Number of Ridge params almost zero\n",
    "print('Ridge Parameter Coefficients:', len(ridge_2.coef_[ridge_2.coef_ < 10**(-10)]), \n",
    "      'close to zero coefficient(s) and', len(ridge_2.coef_[ridge_2.coef_ > 10**(-10)]), 'not close to zero coefficient(s)')\n",
    "\n"
   ]
  },
  {
   "cell_type": "code",
   "execution_count": 18,
   "metadata": {},
   "outputs": [
    {
     "name": "stdout",
     "output_type": "stream",
     "text": [
      "Lasso Parameter Coefficients: 181 close to zero coefficient(s) and 114 not close to zero coefficient(s)\n"
     ]
    }
   ],
   "source": [
    "# Number of Lasso params almost zero\n",
    "print('Lasso Parameter Coefficients:',  len(lasso_2.coef_[lasso_2.coef_ < 10**(-10)]), \n",
    "      'close to zero coefficient(s) and', len(lasso_2.coef_[lasso_2.coef_ > 10**(-10)]), 'not close to zero coefficient(s)')\n"
   ]
  },
  {
   "cell_type": "code",
   "execution_count": 19,
   "metadata": {},
   "outputs": [
    {
     "name": "stdout",
     "output_type": "stream",
     "text": [
      "The lasso model seems to penalize the coefficients more that the ridge model\n"
     ]
    }
   ],
   "source": [
    "# Compare and interpret these results\n",
    "print(f'The lasso model seems to penalize the coefficients more that the ridge model')"
   ]
  },
  {
   "cell_type": "markdown",
   "metadata": {},
   "source": [
    "<details>\n",
    "    <summary style=\"cursor: pointer\"><b>Answer (click to reveal)</b></summary>\n",
    "\n",
    "The ridge model did not penalize any coefficients to 0, while the lasso model removed about 1/4 of the coefficients. The lasso model essentially performed variable selection for us, and got the best metrics as a result!\n",
    "\n",
    "</details>"
   ]
  },
  {
   "cell_type": "markdown",
   "metadata": {},
   "source": [
    "## Finding an Optimal Alpha\n",
    "\n",
    "Earlier we tested two values of `alpha` to see how it affected our MSE and the value of our coefficients. We could continue to guess values of `alpha` for our ridge or lasso regression one at a time to see which values minimize our loss, or we can test a range of values and pick the alpha which minimizes our MSE. Here is an example of how we would do this:  "
   ]
  },
  {
   "cell_type": "code",
   "execution_count": 20,
   "metadata": {},
   "outputs": [
    {
     "name": "stdout",
     "output_type": "stream",
     "text": [
      "Optimal Alpha Value: 28\n"
     ]
    },
    {
     "data": {
      "image/png": "[encoded data removed]",
      "text/plain": [
       "<Figure size 432x288 with 1 Axes>"
      ]
     },
     "metadata": {
      "needs_background": "light"
     },
     "output_type": "display_data"
    }
   ],
   "source": [
    "# Run this cell without changes\n",
    "import matplotlib.pyplot as plt\n",
    "%matplotlib inline\n",
    "\n",
    "train_mse = []\n",
    "test_mse = []\n",
    "alphas = np.linspace(0, 200, num=50)\n",
    "\n",
    "for alpha in alphas:\n",
    "    lasso = Lasso(alpha=alpha)\n",
    "    lasso.fit(X_train_preprocessed, y_train)\n",
    "    \n",
    "    train_preds = lasso.predict(X_train_preprocessed)\n",
    "    train_mse.append(mean_squared_error(y_train, train_preds))\n",
    "    \n",
    "    test_preds = lasso.predict(X_test_preprocessed)\n",
    "    test_mse.append(mean_squared_error(y_test, test_preds))\n",
    "\n",
    "fig, ax = plt.subplots()\n",
    "ax.plot(alphas, train_mse, label='Train')\n",
    "ax.plot(alphas, test_mse, label='Test')\n",
    "ax.set_xlabel('alpha')\n",
    "ax.set_ylabel('MSE')\n",
    "\n",
    "# np.argmin() returns the index of the minimum value in a list\n",
    "optimal_alpha = alphas[np.argmin(test_mse)]\n",
    "\n",
    "# Add a vertical line where the test MSE is minimized\n",
    "ax.axvline(optimal_alpha, color='black', linestyle='--')\n",
    "ax.legend();\n",
    "\n",
    "print(f'Optimal Alpha Value: {int(optimal_alpha)}')"
   ]
  },
  {
   "cell_type": "markdown",
   "metadata": {},
   "source": [
    "Take a look at this graph of our training and test MSE against `alpha`. Try to explain to yourself why the shapes of the training and test curves are this way. Make sure to think about what `alpha` represents and how it relates to overfitting vs underfitting.\n",
    "\n",
    "---\n",
    "\n",
    "<details>\n",
    "    <summary style=\"cursor: pointer\"><b>Answer (click to reveal)</b></summary>\n",
    "\n",
    "For `alpha` values below 28, the model is overfitting. As `alpha` increases up to 28, the MSE for the training data increases and MSE for the test data decreases, indicating that we are reducing overfitting.\n",
    "\n",
    "For `alpha` values above 28, the model is starting to underfit. You can tell because _both_ the train and the test MSE values are increasing.\n",
    "\n",
    "</details>"
   ]
  },
  {
   "cell_type": "markdown",
   "metadata": {},
   "source": [
    "## Summary\n",
    "\n",
    "Well done! You now know how to build lasso and ridge regression models, use them for feature selection and find an optimal value for `alpha`. "
   ]
  }
 ],
 "metadata": {
  "kernelspec": {
   "display_name": "learn-env",
   "language": "python",
   "name": "python3"
  },
  "language_info": {
   "codemirror_mode": {
    "name": "ipython",
    "version": 3
   },
   "file_extension": ".py",
   "mimetype": "text/x-python",
   "name": "python",
   "nbconvert_exporter": "python",
   "pygments_lexer": "ipython3",
   "version": "3.8.5"
  }
 },
 "nbformat": 4,
 "nbformat_minor": 2
}
